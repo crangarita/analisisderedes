{
  "nbformat": 4,
  "nbformat_minor": 0,
  "metadata": {
    "colab": {
      "provenance": [],
      "collapsed_sections": [],
      "authorship_tag": "ABX9TyPeEl/MYAcCCFsV1iK1Gzqi",
      "include_colab_link": true
    },
    "kernelspec": {
      "name": "python3",
      "display_name": "Python 3"
    },
    "language_info": {
      "name": "python"
    }
  },
  "cells": [
    {
      "cell_type": "markdown",
      "metadata": {
        "id": "view-in-github",
        "colab_type": "text"
      },
      "source": [
        "<a href=\"https://colab.research.google.com/github/crangarita/analisisderedes/blob/master/analisisderedes.ipynb\" target=\"_parent\"><img src=\"https://colab.research.google.com/assets/colab-badge.svg\" alt=\"Open In Colab\"/></a>"
      ]
    },
    {
      "cell_type": "code",
      "source": [
        "import pandas as pd\n",
        "\n",
        "data = pd.read_excel('Datos_vinoyqol.xlsx')\n",
        "print(data)"
      ],
      "metadata": {
        "id": "un9nGYVcbBjL"
      },
      "execution_count": null,
      "outputs": []
    },
    {
      "cell_type": "code",
      "source": [
        "!pip install pca"
      ],
      "metadata": {
        "id": "3Fu6W0DvdtdT"
      },
      "execution_count": null,
      "outputs": []
    },
    {
      "cell_type": "code",
      "source": [
        "import pandas as pd\n",
        "from pca import pca\n",
        "import networkx as nx\n",
        "\n",
        "# Función que genera el gephi en base al results del analisis PCA\n",
        "\n",
        "def generate(results, dimensiones_list, items_list, \n",
        "             nombre_dimension = \"dimension\", nombre_item = \"item\", \n",
        "             escala_dimension = 1, escala_item = 100, ):\n",
        "\n",
        "  M = nx.Graph()\n",
        "\n",
        "  dimensions = results['loadings']\n",
        "  items = results['PC']\n",
        "\n",
        "  for x in dimensions:\n",
        "\n",
        "    dimension_x = dimensions[x]['PC1']/escala_dimension\n",
        "    dimension_y = dimensions[x]['PC2']/escala_dimension\n",
        "    name_dimension = dimensiones_list[int(x)]\n",
        "\n",
        "    y = items.loc[:,['PC1','PC2']].values\n",
        "    pos = 0\n",
        "\n",
        "    for pc1, pc2 in y:\n",
        "\n",
        "      items_x = pc1/escala_item\n",
        "      items_y = pc2/escala_item\n",
        "      \n",
        "      name_item = items_list[pos][0]\n",
        "      pos = pos + 1\n",
        "      M.add_node(name_dimension, tipo=nombre_dimension, longitud=dimension_x, \n",
        "                 latitud=dimension_y)\n",
        "      M.add_node(name_item, tipo=nombre_item, longitud=items_x, latitud=items_y)\n",
        "      M.add_edge(name_dimension,name_item)\n",
        "\n",
        "\n",
        "  nx.write_gexf(M,\"dimensionvsitems.gexf\")\n",
        "\n",
        "# Uso de la función\n",
        "# Se incluye el archivo\n",
        "data = pd.read_excel('Datos_vinoyqol.xlsx')\n",
        "\n",
        "# Se obtiene la lista de datos distinto al pais\n",
        "x = data.loc[:, data.columns != 'Pais'].values\n",
        "\n",
        "# Se obtiene las cabeceras del archivo que seran las dimensiones\n",
        "cabeceras = data.keys()\n",
        "\n",
        "# Se obtiene los datos de los paises que seran los items\n",
        "items = data.loc[:, data.columns == 'Pais'].values\n",
        "\n",
        "# Explorar que es un analisis PCA\n",
        "model = pca(n_components=0.95)\n",
        "results = model.fit_transform(x)\n",
        "\n",
        "# Se llama la función que genera la red de nodos\n",
        "# results: corresponde al objeto transformado\n",
        "# cabeceras: corresponde al archivo de las dimensiones\n",
        "# items: corresponde a los items del results\n",
        "generate(results, cabeceras, items)\n",
        "\n",
        "fig, ax = model.plot()\n",
        "fig, ax = model.scatter()\n",
        "fig, ax = model.biplot()\n"
      ],
      "metadata": {
        "colab": {
          "base_uri": "https://localhost:8080/"
        },
        "outputId": "4e3eb90a-ef74-45f8-d297-329ba01106ad",
        "id": "jgpTsbYyesy_"
      },
      "execution_count": null,
      "outputs": [
        {
          "output_type": "stream",
          "name": "stdout",
          "text": [
            "[pca] >Column labels are auto-completed.\n",
            "[pca] >Row labels are auto-completed.\n",
            "[pca] >The PCA reduction is performed to capture [95.0%] explained variance using the [5] columns of the input data.\n",
            "[pca] >Fit using PCA.\n",
            "[pca] >Compute loadings and PCs.\n",
            "[pca] >Compute explained variance.\n",
            "[pca] >Number of components is [2] that covers the [95.00%] explained variance.\n",
            "[pca] >The PCA reduction is performed on the [5] columns of the input dataframe.\n",
            "[pca] >Fit using PCA.\n",
            "[pca] >Compute loadings and PCs.\n",
            "[pca] >Outlier detection using Hotelling T2 test with alpha=[0.05] and n_components=[2]\n",
            "[pca] >Outlier detection using SPE/DmodX with n_std=[2]\n"
          ]
        }
      ]
    }
  ]
}